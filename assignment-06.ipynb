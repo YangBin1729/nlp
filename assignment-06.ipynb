{
 "cells": [
  {
   "cell_type": "markdown",
   "metadata": {},
   "source": [
    "***1.总结过拟合和欠拟合的原因***"
   ]
  },
  {
   "cell_type": "markdown",
   "metadata": {},
   "source": [
    "- 过拟合主要由于学习能力过于强大，以至于把训练样本自身所包含的不太一般的特性都学习到了，即模型过于复杂、训练数据偏少\n",
    "- 欠拟合主要因为模型复杂度过低，特征量过少"
   ]
  },
  {
   "cell_type": "markdown",
   "metadata": {},
   "source": [
    "***3.已有的机器学习使用场景***"
   ]
  },
  {
   "cell_type": "markdown",
   "metadata": {},
   "source": [
    "- 人脸识别\n",
    "- 语音识别\n",
    "- 垃圾邮件检测\n",
    "- 聊天机器人/自动客服\n",
    "- 自动驾驶\n",
    "- 量化金融"
   ]
  },
  {
   "cell_type": "markdown",
   "metadata": {},
   "source": [
    "***4.可能的机器学习使用场景***"
   ]
  },
  {
   "cell_type": "markdown",
   "metadata": {},
   "source": [
    "- 物种识别，如识别不同种类的蘑菇、螺\n",
    "- 反腐，识别非法收入\n",
    "- 创作，小说、音乐等"
   ]
  },
  {
   "cell_type": "code",
   "execution_count": null,
   "metadata": {},
   "outputs": [],
   "source": []
  }
 ],
 "metadata": {
  "kernelspec": {
   "display_name": "Python [conda env:nlp]",
   "language": "python",
   "name": "conda-env-nlp-py"
  },
  "language_info": {
   "codemirror_mode": {
    "name": "ipython",
    "version": 3
   },
   "file_extension": ".py",
   "mimetype": "text/x-python",
   "name": "python",
   "nbconvert_exporter": "python",
   "pygments_lexer": "ipython3",
   "version": "3.7.4"
  }
 },
 "nbformat": 4,
 "nbformat_minor": 2
}
