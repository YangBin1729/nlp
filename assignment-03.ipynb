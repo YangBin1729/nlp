{
 "cells": [
  {
   "cell_type": "markdown",
   "metadata": {},
   "source": [
    "### Part 2：\n",
    "$loss = \\frac{1}{n}\\sum{|y_i - \\hat{y_i}|}$"
   ]
  },
  {
   "cell_type": "code",
   "execution_count": null,
   "metadata": {},
   "outputs": [],
   "source": [
    "def loss(x, y, y_hat):\n",
    "    return sum(abs(y_hat_i-y_i) for y_hat_i,y_i in zip(y_hat,y))/len(y)"
   ]
  },
  {
   "cell_type": "code",
   "execution_count": null,
   "metadata": {},
   "outputs": [],
   "source": [
    "def partial_b(x, y, y_hat):\n",
    "    return sum([1 if y_hat_i-y_i>=0 else -1 for y_i, y_hat_i in zip(list(y), list(y_hat))])/len(x)    "
   ]
  },
  {
   "cell_type": "code",
   "execution_count": null,
   "metadata": {},
   "outputs": [],
   "source": [
    "def partial_k(x, y, y_hat):\n",
    "    return sum([x_i if y_hat_i-y_i>=0 else -1*x_i for x_i, y_i, y_hat_i in zip(list(x),list(y),list(y_hat))])/len(x)"
   ]
  },
  {
   "cell_type": "code",
   "execution_count": null,
   "metadata": {},
   "outputs": [],
   "source": [
    "from sklearn.datasets import load_boston\n",
    "data = load_boston()\n",
    "X = data['data']\n",
    "y = data['target']"
   ]
  },
  {
   "cell_type": "code",
   "execution_count": null,
   "metadata": {},
   "outputs": [],
   "source": [
    "import matplotlib.pyplot as plt"
   ]
  },
  {
   "cell_type": "code",
   "execution_count": null,
   "metadata": {},
   "outputs": [],
   "source": [
    "%matplotlib inline"
   ]
  },
  {
   "cell_type": "code",
   "execution_count": null,
   "metadata": {},
   "outputs": [],
   "source": [
    "plt.scatter(X[:,5], y)"
   ]
  },
  {
   "cell_type": "code",
   "execution_count": null,
   "metadata": {},
   "outputs": [],
   "source": [
    "x = X[:, 5]\n",
    "type(x)"
   ]
  },
  {
   "cell_type": "code",
   "execution_count": null,
   "metadata": {},
   "outputs": [],
   "source": [
    "import random\n",
    "k = 1\n",
    "b = -5\n",
    "\n",
    "loops = 3000\n",
    "learning_rate =1e-3\n",
    "min_loss = float('inf')\n",
    "\n",
    "for i in range(loops):\n",
    "    y_hat = [k*x_i+b for x_i in x]\n",
    "    current_loss = loss(x, y, y_hat)\n",
    "    \n",
    "    if min_loss > current_loss:\n",
    "        min_loss = current_loss\n",
    "        print('When time is : {}, get best_k: {} best_b: {}, and the loss is: {}'.format(i, k, b, min_loss))\n",
    "    k = k - partial_k(x,y,y_hat)*learning_rate\n",
    "    b = b - partial_b(x,y,y_hat)*learning_rate"
   ]
  },
  {
   "cell_type": "code",
   "execution_count": null,
   "metadata": {},
   "outputs": [],
   "source": [
    "plt.scatter(x, y)\n",
    "plt.scatter(x, [k*i+b for i in x])"
   ]
  },
  {
   "cell_type": "markdown",
   "metadata": {},
   "source": [
    "### Part 3: Finish the Solution Parse Part of Edit-Distance"
   ]
  },
  {
   "cell_type": "code",
   "execution_count": 27,
   "metadata": {},
   "outputs": [],
   "source": [
    "def edit_distance(str1, str2):\n",
    "    matrix = [[ i + j for j in range(len(str2) + 1)] for i in range(len(str1) + 1)]\n",
    "    \n",
    "    operation_matrix = [[ '' for j in range(len(str2) + 1)] for i in range(len(str1) + 1)]\n",
    "    for j in range(1, len(str2)+1):\n",
    "        operation_matrix[0][j] = operation_matrix[0][j-1] + 'ADD {};'.format(str2[j-1])\n",
    "    for i in range(1, len(str1)+1):\n",
    "        operation_matrix[i][0] = operation_matrix[i-1][0] + 'DEL {};'.format(str1[i-1])\n",
    "\n",
    "    for i in range(1, len(str1)+1):\n",
    "        for j in range(1, len(str2)+1):\n",
    "            if(str1[i-1] == str2[j-1]):\n",
    "                d = 0\n",
    "                operation = ''\n",
    "            else:\n",
    "                d = 1\n",
    "                operation = 'SUB {}=>{};'.format(str1[i-1], str2[j-1])\n",
    "            \n",
    "            matrix[i][j], operation_matrix[i][j] = min(\n",
    "                (matrix[i-1][j-1] + d, operation_matrix[i-1][j-1] + operation),\n",
    "                (matrix[i-1][j] + 1, operation_matrix[i-1][j] + 'DEL {};'.format(str1[i-1])),\n",
    "                (matrix[i][j-1] + 1, operation_matrix[i][j-1] + 'ADD {};'.format(str2[j-1])))\n",
    "\n",
    "    return matrix[-1][-1], operation_matrix[-1][-1]"
   ]
  },
  {
   "cell_type": "code",
   "execution_count": 28,
   "metadata": {},
   "outputs": [
    {
     "data": {
      "text/plain": [
       "(6, 'ADD b;ADD e;ADD i;DEL e;SUB b=>n;SUB a=>g;')"
      ]
     },
     "execution_count": 28,
     "metadata": {},
     "output_type": "execute_result"
    }
   ],
   "source": [
    "edit_distance('jieba', 'beijing')"
   ]
  },
  {
   "cell_type": "code",
   "execution_count": null,
   "metadata": {},
   "outputs": [],
   "source": []
  },
  {
   "cell_type": "markdown",
   "metadata": {},
   "source": [
    "### Part 5-1: review machine learning"
   ]
  },
  {
   "cell_type": "markdown",
   "metadata": {},
   "source": [
    "1. Why do we use Derivative / Gradient to fit a target function?\n",
    "\n",
    "Ans: 在目标函数的梯度或导数等于0时，得到目标函数的极值。所以求目标函数的极值等价于求解，目标函数梯度=0 这个表达式\n",
    "\n",
    "    "
   ]
  },
  {
   "cell_type": "markdown",
   "metadata": {},
   "source": [
    "2. In the words 'Gredient Descent', what's the Gredient and what's the Descent?¶\n",
    "\n",
    "Ans: 梯度指损失函数对各变量的导数；梯度为0时，求得损失函数极小值，下降即指沿梯度值变小的方向求解极小值\n"
   ]
  },
  {
   "cell_type": "markdown",
   "metadata": {},
   "source": [
    "3. What's the advantages of the 3rd gradient descent method compared to the previous methods?\n",
    "\n",
    "Ans: 更通用、简单、高效"
   ]
  },
  {
   "cell_type": "markdown",
   "metadata": {},
   "source": [
    "4. Using the simple words to describe: What's the machine leanring.¶\n",
    "\n",
    "Ans: 计算机从数据中学到规则，并可以利用学到的规则生成新的数据\n",
    "    "
   ]
  },
  {
   "cell_type": "code",
   "execution_count": null,
   "metadata": {},
   "outputs": [],
   "source": []
  },
  {
   "cell_type": "markdown",
   "metadata": {},
   "source": [
    "### Part 5: Answer following questions:"
   ]
  },
  {
   "cell_type": "markdown",
   "metadata": {},
   "source": [
    "1. Why do we need dynamic programming? What's the difference of dynamic programming and previous talked search problme?\n",
    "\n",
    "Ans：\n",
    "1. 动态规划适用于求解具有重叠子问题和最优子结构特征的问题\n",
    "2. 动态规划和基于搜索是两种不同的算法思维"
   ]
  },
  {
   "cell_type": "markdown",
   "metadata": {},
   "source": [
    "2. Why do we still need dynamic programming? Why not we train a machine learning to fit a function which could get the right answer based on inputs?\n",
    "\n",
    "Ans:\n",
    "1. 机器学习不是万能的\n",
    "2. 部分问题，动态规划算法求解更方便快速"
   ]
  },
  {
   "cell_type": "markdown",
   "metadata": {},
   "source": [
    "3. Can you catch up at least 3 problems which could solved by Dynamic Programming?\n",
    "\n",
    "Ans:\n",
    "1. 最长公共子字符串\n",
    "2. 最长递增子序列\n",
    "3. 最大子集和"
   ]
  },
  {
   "cell_type": "markdown",
   "metadata": {},
   "source": [
    "4. Can you catch up at least 3 problems wich could sloved by Edit Distance?\n",
    "\n",
    "Ans:\n",
    "1. 单词拼写检查\n",
    "2. \n",
    "3. "
   ]
  },
  {
   "cell_type": "markdown",
   "metadata": {},
   "source": [
    "5. Please summarize the three main features of Dynamic Programming, and make a concise explain for each feature.\n",
    "\n",
    "Ans:\n",
    "1. 重叠子问题及最优子结构：原始问题可以分解为子问题，且子问题之间出现重叠；分治算法是将原始问题分解为无关的子问题 ；原始问题的最优解是通过子问题的最优解获得；\n",
    "2. 需要储存全部或部分子问题的最优解；\n",
    "3. 得到最优解的结果后，得到最优解的具体过程还需要额外处理\n",
    "    "
   ]
  },
  {
   "cell_type": "markdown",
   "metadata": {},
   "source": [
    "6. What's the disadvantages of Dynamic Programming? (You may need search by yourself in Internet)\n",
    "\n",
    "Ans:\n",
    "1. 动态规划只适用于特定类的问题\n",
    "2. 对于部分问题，动态规划可能计算很多不必要的子问题，如杨辉三角形：C(n,m) = C(n-1,m) + C(n-1,m-1)，需要计算所有的值\n",
    "3. 动态规划总是计算全局最优解，导致时间和空间复杂度过高；对于部分问题，近似解即可满足要求\n",
    "\n",
    "\n"
   ]
  },
  {
   "cell_type": "code",
   "execution_count": null,
   "metadata": {},
   "outputs": [],
   "source": []
  },
  {
   "cell_type": "markdown",
   "metadata": {},
   "source": [
    "### (Optinal) Finish the k-person-salesman problem:"
   ]
  },
  {
   "cell_type": "markdown",
   "metadata": {},
   "source": [
    "1.生成随机点"
   ]
  },
  {
   "cell_type": "code",
   "execution_count": 1,
   "metadata": {},
   "outputs": [],
   "source": [
    "import random\n",
    "import matplotlib.pyplot as plt\n",
    "import numpy as np"
   ]
  },
  {
   "cell_type": "code",
   "execution_count": 2,
   "metadata": {
    "scrolled": true
   },
   "outputs": [
    {
     "data": {
      "text/plain": [
       "([-49,\n",
       "  56,\n",
       "  -74,\n",
       "  84,\n",
       "  56,\n",
       "  -43,\n",
       "  -75,\n",
       "  -98,\n",
       "  -96,\n",
       "  33,\n",
       "  81,\n",
       "  -80,\n",
       "  62,\n",
       "  -3,\n",
       "  96,\n",
       "  -63,\n",
       "  81,\n",
       "  29,\n",
       "  -11,\n",
       "  -52],\n",
       " [25,\n",
       "  -27,\n",
       "  32,\n",
       "  -96,\n",
       "  -76,\n",
       "  10,\n",
       "  34,\n",
       "  79,\n",
       "  88,\n",
       "  -79,\n",
       "  99,\n",
       "  -95,\n",
       "  -40,\n",
       "  27,\n",
       "  -58,\n",
       "  52,\n",
       "  -6,\n",
       "  -3,\n",
       "  -14,\n",
       "  -28])"
      ]
     },
     "execution_count": 2,
     "metadata": {},
     "output_type": "execute_result"
    }
   ],
   "source": [
    "latitudes = [random.randint(-100, 100) for _ in range(20)]\n",
    "longitude = [random.randint(-100, 100) for _ in range(20)]\n",
    "latitudes, longitude"
   ]
  },
  {
   "cell_type": "code",
   "execution_count": 3,
   "metadata": {
    "scrolled": true
   },
   "outputs": [
    {
     "data": {
      "text/plain": [
       "<matplotlib.collections.PathCollection at 0x2423a3e55f8>"
      ]
     },
     "execution_count": 3,
     "metadata": {},
     "output_type": "execute_result"
    },
    {
     "data": {
      "image/png": "[encoded data removed]",
      "text/plain": [
       "<Figure size 432x288 with 1 Axes>"
      ]
     },
     "metadata": {
      "needs_background": "light"
     },
     "output_type": "display_data"
    }
   ],
   "source": [
    "plt.scatter(latitudes, longitude)"
   ]
  },
  {
   "cell_type": "markdown",
   "metadata": {},
   "source": [
    "2.点间距离"
   ]
  },
  {
   "cell_type": "code",
   "execution_count": 4,
   "metadata": {},
   "outputs": [],
   "source": [
    "import math\n",
    "def distance(x1,x2):\n",
    "    return math.sqrt((x1[0]-x2[0])**2+(x1[1]-x2[1])**2)"
   ]
  },
  {
   "cell_type": "code",
   "execution_count": 5,
   "metadata": {},
   "outputs": [
    {
     "data": {
      "text/plain": [
       "5.0"
      ]
     },
     "execution_count": 5,
     "metadata": {},
     "output_type": "execute_result"
    }
   ],
   "source": [
    "x1 = [0, 0]\n",
    "x2 = [3, 4]\n",
    "distance(x1, x2)"
   ]
  },
  {
   "cell_type": "code",
   "execution_count": 6,
   "metadata": {},
   "outputs": [],
   "source": [
    "def distance_matrix(arr):\n",
    "    return [[distance(x1,x2) for x1 in arr] for x2 in arr]"
   ]
  },
  {
   "cell_type": "code",
   "execution_count": 7,
   "metadata": {},
   "outputs": [
    {
     "data": {
      "text/plain": [
       "[[0.0, 5.0], [5.0, 0.0]]"
      ]
     },
     "execution_count": 7,
     "metadata": {},
     "output_type": "execute_result"
    }
   ],
   "source": [
    "distance_matrix([x1,x2])"
   ]
  },
  {
   "cell_type": "markdown",
   "metadata": {},
   "source": [
    "3.最短路径-----自顶向下，递归\n",
    "    1. 起始点和待遍历点中某一点的距离，剩下所有点的最短路径，计算两者之和\n",
    "    2. 遍历所有点，重复 1 中的计算\n",
    "    3. 从 2 的结果中选择最小值"
   ]
  },
  {
   "cell_type": "code",
   "execution_count": 8,
   "metadata": {},
   "outputs": [],
   "source": [
    "def rec_TSP(s, arr):\n",
    "    result = {'dist':float('inf'), 'path': []}\n",
    "    \n",
    "    if len(arr)==1:\n",
    "        result['dist'] = distance(s, arr[0])\n",
    "        result['path'] = [s, arr[0]]\n",
    "    \n",
    "    for i in range(len(arr)):\n",
    "        next_ = rec_TSP(arr[i], arr[:i]+arr[i+1:])\n",
    "        if distance(s,arr[i]) + next_['dist'] < result['dist']:\n",
    "            result['dist'] = distance(s,arr[i]) + next_['dist']\n",
    "            result['path'] = [s] + next_['path']\n",
    "    \n",
    "    return result\n",
    "    "
   ]
  },
  {
   "cell_type": "code",
   "execution_count": 9,
   "metadata": {},
   "outputs": [
    {
     "data": {
      "text/plain": [
       "{'dist': 4.414213562373095,\n",
       " 'path': [(0, 0), (0, 1), (1, 1), (0.5, 0.5), (1, 0), (2, 0)]}"
      ]
     },
     "execution_count": 9,
     "metadata": {},
     "output_type": "execute_result"
    }
   ],
   "source": [
    "arr=[(1, 0), (1, 1), (0, 1), (0.5, 0.5), (2, 0)]\n",
    "start = (0, 0)\n",
    "rec_TSP(start, arr)"
   ]
  },
  {
   "cell_type": "code",
   "execution_count": 11,
   "metadata": {},
   "outputs": [],
   "source": [
    "arr = list(zip(latitudes[:10], longitude[:10]))\n",
    "start = (1, 1)\n",
    "solution = rec_TSP(start, arr)"
   ]
  },
  {
   "cell_type": "code",
   "execution_count": 12,
   "metadata": {},
   "outputs": [
    {
     "data": {
      "text/plain": [
       "{'dist': 414.9298962813669,\n",
       " 'path': [(1, 1),\n",
       "  (56, -27),\n",
       "  (84, -96),\n",
       "  (56, -76),\n",
       "  (33, -79),\n",
       "  (-43, 10),\n",
       "  (-49, 25),\n",
       "  (-74, 32),\n",
       "  (-75, 34),\n",
       "  (-98, 79),\n",
       "  (-96, 88)]}"
      ]
     },
     "execution_count": 12,
     "metadata": {},
     "output_type": "execute_result"
    }
   ],
   "source": [
    "solution"
   ]
  },
  {
   "cell_type": "markdown",
   "metadata": {},
   "source": [
    "4.作图"
   ]
  },
  {
   "cell_type": "code",
   "execution_count": 15,
   "metadata": {},
   "outputs": [],
   "source": [
    "import matplotlib.pyplot as plt\n",
    "def plot_path(path,**kwargs):\n",
    "    x = [p[0] for p in path] \n",
    "    y = [p[1] for p in path]\n",
    "    plt.plot(x,y,marker='o')\n",
    "    start = path[0]\n",
    "    plt.text(*start,'start',fontsize=16)"
   ]
  },
  {
   "cell_type": "code",
   "execution_count": 16,
   "metadata": {},
   "outputs": [
    {
     "data": {
      "image/png": "[encoded data removed]",
      "text/plain": [
       "<Figure size 432x288 with 1 Axes>"
      ]
     },
     "metadata": {
      "needs_background": "light"
     },
     "output_type": "display_data"
    }
   ],
   "source": [
    "plot_path(solution['path'])"
   ]
  },
  {
   "cell_type": "code",
   "execution_count": null,
   "metadata": {},
   "outputs": [],
   "source": []
  },
  {
   "cell_type": "markdown",
   "metadata": {},
   "source": [
    "5.动态规划\n",
    "\n",
    "    1.点集S{0,1,2...n-1}，起点为 0；\n",
    "    \n",
    "    2.所求问题表示为 dp(S)，辅助表达式 C(i,S)表示点 i 为终点时的最短路径，点0和i都包含在集合S中\n",
    "    \n",
    "    3.dp(S)=min( C(i,S) for i in S )\n",
    "    \n",
    "    4.T(i,S)=min( C(j,S-{j}) + distance(i,j) for j in S ),j 表示路径中倒数第二个点\n",
    "    \n",
    "    5.S的所有子集可以通过 2**n 个整数的比特数表达，比特数每一位0或1表示该位元素存在与否。如 bin(20)=10100，表示集合{2，4}\n",
    "   "
   ]
  },
  {
   "cell_type": "code",
   "execution_count": 18,
   "metadata": {},
   "outputs": [],
   "source": [
    "def dp_TSP(cities, M):\n",
    "    n = len(cities)\n",
    "    T = [[(float('inf'), '')] * (1 << n) for _ in range(n)]\n",
    "    # T[i][k] = C(i,k), 表示 k 对应的点子集， i 表示终点时的最短路径\n",
    "\n",
    "    T[0][1] = 0, '0'\n",
    "    # C(0, {0}) 表示只有起点, 路径为空\n",
    "\n",
    "    for s in range(1 << n):\n",
    "        if sum(((s >> j) & 1) for j in range(n)) <= 1 or not (s & 1):\n",
    "            # x & 1 表示 x 的比特数的最后一位\n",
    "            # s >> j 表示 s 的比特数右移 j 位，即删除后 j 位\n",
    "            # (s >> j) & 1) for j in range(n) 表示 s 的比特数的每一位\n",
    "            # s 代表的集合必须含有2个及以上元素\n",
    "            # s & 1：s 比特位最后一位为 1， 即所代表的集合必须含有起点 0\n",
    "            continue\n",
    "\n",
    "        for i in range(1, n):\n",
    "            if not ((s >> i) & 1):\n",
    "                # 元素 i 不在 s 表示的集合内\n",
    "                continue\n",
    "            for j in range(n):\n",
    "                if j == i or not ((s >> j) & 1):\n",
    "                    # 元素 j 不能等于 i， 且必须包含在集合 s 中\n",
    "                    continue\n",
    "\n",
    "                T[i][s] = min(\n",
    "                    T[i][s],\n",
    "                    (T[j][s^(1 << i)][0] + M[i][j], T[j][s^(1 << i)][1] + '->{}'.format(i))\n",
    "                )\n",
    "    return min(T[i][(1 << n) - 1] for i in range(1, n))"
   ]
  },
  {
   "cell_type": "code",
   "execution_count": 19,
   "metadata": {},
   "outputs": [],
   "source": [
    "def parse_path(path, cities):\n",
    "    return[\n",
    "        cities[int(s)] for s in path.split('->')\n",
    "    ]"
   ]
  },
  {
   "cell_type": "code",
   "execution_count": 20,
   "metadata": {},
   "outputs": [],
   "source": [
    "def solve_TSP(cities):\n",
    "    M = distance_matrix(cities)\n",
    "    min_dist, best_path = dp_TSP(cities, M)\n",
    "    cities_by_order = parse_path(best_path, cities)\n",
    "    print('最短距离： ', min_dist)\n",
    "    print('最优路径： ', best_path)\n",
    "    return min_dist, cities_by_order"
   ]
  },
  {
   "cell_type": "code",
   "execution_count": 21,
   "metadata": {},
   "outputs": [
    {
     "name": "stdout",
     "output_type": "stream",
     "text": [
      "最短距离：  706.3210984063309\n",
      "最优路径：  0->6->16->3->17->8->11->12->14->7->9->15->10->18->1->4->2->5->19->13\n"
     ]
    },
    {
     "data": {
      "image/png": "[encoded data removed]",
      "text/plain": [
       "<Figure size 432x288 with 1 Axes>"
      ]
     },
     "metadata": {
      "needs_background": "light"
     },
     "output_type": "display_data"
    }
   ],
   "source": [
    "cities = [random.sample(range(-99, 100), 2) for x in range(20)]\n",
    "min_dist, cities_by_order = solve_TSP(cities)\n",
    "plot_path(cities_by_order)"
   ]
  },
  {
   "cell_type": "code",
   "execution_count": null,
   "metadata": {},
   "outputs": [],
   "source": []
  },
  {
   "cell_type": "code",
   "execution_count": null,
   "metadata": {},
   "outputs": [],
   "source": []
  },
  {
   "cell_type": "markdown",
   "metadata": {},
   "source": [
    "6.多个起点"
   ]
  },
  {
   "cell_type": "code",
   "execution_count": 24,
   "metadata": {},
   "outputs": [],
   "source": [
    "def clf(starts, data):\n",
    "    M = np.zeros((len(starts), len(data)))\n",
    "    n, m = M.shape\n",
    "    for i in range(n):\n",
    "        for j in range(m):\n",
    "            M[i, j] = distance(starts[i], data[j])\n",
    "    return np.argmin(M, axis=0)"
   ]
  },
  {
   "cell_type": "code",
   "execution_count": 25,
   "metadata": {
    "scrolled": true
   },
   "outputs": [],
   "source": [
    "def regroup(starts, cities):\n",
    "    target = clf(starts, cities)\n",
    "    results = [[p] for p in starts]\n",
    "\n",
    "    for i in range(len(starts)):\n",
    "        group_i = [cities[j] for j in range(len(cities)) if target[j]==i]\n",
    "        results[i].extend(group_i)\n",
    "\n",
    "    return results"
   ]
  },
  {
   "cell_type": "code",
   "execution_count": 32,
   "metadata": {},
   "outputs": [],
   "source": [
    "def plot_groups(starts, cities):\n",
    "    colors = 'rbgyp'\n",
    "    groups = regroup(starts, cities)\n",
    "    for i in range(len(groups)):\n",
    "        group = groups[i]\n",
    "        x = [p[0] for p in group]\n",
    "        y = [p[1] for p in group]\n",
    "        plt.scatter(x[1:], y[1:], marker='o', color=colors[i])\n",
    "        plt.scatter(x[0], y[0], marker='x', color=colors[i])\n",
    "        plt.text(*starts[i], 'start')\n",
    "        "
   ]
  },
  {
   "cell_type": "code",
   "execution_count": 33,
   "metadata": {},
   "outputs": [
    {
     "data": {
      "image/png": "[encoded data removed]",
      "text/plain": [
       "<Figure size 432x288 with 1 Axes>"
      ]
     },
     "metadata": {
      "needs_background": "light"
     },
     "output_type": "display_data"
    }
   ],
   "source": [
    "cities = [random.sample(range(-99, 100), 2) for x in range(60)]\n",
    "starts = [[-50, 10], [1, 30], [99, 15]]\n",
    "plot_groups(starts, cities)\n",
    "plt.show()"
   ]
  },
  {
   "cell_type": "code",
   "execution_count": null,
   "metadata": {},
   "outputs": [],
   "source": []
  },
  {
   "cell_type": "code",
   "execution_count": 34,
   "metadata": {},
   "outputs": [],
   "source": [
    "def solve_kTSP(starts, cities):\n",
    "    groups = regroup(starts, cities)\n",
    "    results = []\n",
    "    for i in range(len(groups)):\n",
    "        print('{}组{}点: '.format(i+1, len(groups[i])), groups[i])\n",
    "\n",
    "        M = distance_matrix(groups[i])\n",
    "        min_dist, best_path = dp_TSP(groups[i], M)\n",
    "        cities_by_order = parse_path(best_path, groups[i])\n",
    "        print('最短距离： ', min_dist)\n",
    "        print('最优路径： ', best_path)\n",
    "        results.append((min_dist, cities_by_order))\n",
    "    return results"
   ]
  },
  {
   "cell_type": "code",
   "execution_count": 35,
   "metadata": {},
   "outputs": [
    {
     "name": "stdout",
     "output_type": "stream",
     "text": [
      "1组18点:  [[-50, 10], [-77, 77], [-82, -69], [-69, 7], [-88, 59], [-50, 56], [3, -73], [-75, 98], [-73, 4], [-31, -39], [-71, 66], [-23, -5], [3, -62], [-71, 99], [-77, 32], [-60, 34], [-80, 39], [-92, -5]]\n",
      "最短距离：  460.3620784552156\n",
      "最优路径：  0->11->9->12->6->2->17->8->3->14->16->15->5->10->4->1->7->13\n",
      "2组11点:  [[1, 30], [28, -95], [5, 51], [37, 95], [-1, 26], [22, -17], [-7, 30], [42, 35], [2, -17], [19, -54], [-51, 90]]\n",
      "最短距离：  410.870414291129\n",
      "最优路径：  0->4->6->2->10->3->7->5->8->9->1\n",
      "3组14点:  [[99, 15], [69, 31], [64, -34], [95, 8], [61, -78], [90, -47], [49, -75], [60, 2], [48, -91], [66, 36], [54, -83], [43, -79], [67, -47], [70, 9]]\n",
      "最短距离：  241.36814742249496\n",
      "最优路径：  0->3->1->9->13->7->2->12->5->4->10->6->11->8\n"
     ]
    },
    {
     "data": {
      "image/png": "[encoded data removed]",
      "text/plain": [
       "<Figure size 432x288 with 1 Axes>"
      ]
     },
     "metadata": {
      "needs_background": "light"
     },
     "output_type": "display_data"
    }
   ],
   "source": [
    "cities = [random.sample(range(-99, 100), 2) for x in range(40)]\n",
    "starts = [[-50, 10], [1, 30], [99, 15]]\n",
    "\n",
    "results = solve_kTSP(starts, cities)\n",
    "\n",
    "colors = 'rbgyp'\n",
    "for i in range(len(starts)):\n",
    "    min_dist, cities_by_order = results[i]\n",
    "    plot_path(cities_by_order, color=colors[i])\n",
    "plt.show()"
   ]
  },
  {
   "cell_type": "markdown",
   "metadata": {},
   "source": [
    "7.更好的分组   \n",
    "\n",
    "\n",
    "todo:"
   ]
  },
  {
   "cell_type": "code",
   "execution_count": null,
   "metadata": {},
   "outputs": [],
   "source": []
  },
  {
   "cell_type": "code",
   "execution_count": null,
   "metadata": {},
   "outputs": [],
   "source": []
  },
  {
   "cell_type": "code",
   "execution_count": null,
   "metadata": {},
   "outputs": [],
   "source": []
  }
 ],
 "metadata": {
  "kernelspec": {
   "display_name": "Python [conda env:nlp]",
   "language": "python",
   "name": "conda-env-nlp-py"
  },
  "language_info": {
   "codemirror_mode": {
    "name": "ipython",
    "version": 3
   },
   "file_extension": ".py",
   "mimetype": "text/x-python",
   "name": "python",
   "nbconvert_exporter": "python",
   "pygments_lexer": "ipython3",
   "version": "3.7.3"
  }
 },
 "nbformat": 4,
 "nbformat_minor": 2
}
